{
 "cells": [
  {
   "cell_type": "code",
   "execution_count": 2,
   "id": "d33d8f58",
   "metadata": {},
   "outputs": [],
   "source": [
    "from openpyxl import Workbook,load_workbook\n",
    "import numpy as np\n",
    "from pandas import DataFrame\n",
    "import pandas as pd\n",
    "import math\n",
    "import matplotlib.pyplot as plt"
   ]
  },
  {
   "cell_type": "code",
   "execution_count": 3,
   "id": "8cb59d69",
   "metadata": {},
   "outputs": [
    {
     "name": "stderr",
     "output_type": "stream",
     "text": [
      "/var/folders/6m/t9mkcn253vn2pm675lffsjzw0000gn/T/ipykernel_62894/974766299.py:2: DeprecationWarning: Call to deprecated function get_sheet_by_name (Use wb[sheetname]).\n",
      "  ws = wb.get_sheet_by_name('Sheet1')\n"
     ]
    }
   ],
   "source": [
    "wb = load_workbook('final.xlsx')\n",
    "ws = wb.get_sheet_by_name('Sheet1')\n",
    "\n",
    "letters = ['B','C','D','E','F','G','H','I','J']\n",
    "datas = []\n",
    "for l in letters:\n",
    "\tnum_lis = []\n",
    "\tfor cell in ws[f'{l}2':f'{l}12']:\n",
    "\t\told_num = cell[0].value\n",
    "\t\tif old_num == None:\n",
    "\t\t\told_num = 0\n",
    "\t\tnum_lis.append(old_num)\n",
    "\tdatas.append(num_lis)"
   ]
  },
  {
   "cell_type": "code",
   "execution_count": 4,
   "id": "875d1116",
   "metadata": {},
   "outputs": [],
   "source": [
    "index  = []\n",
    "for i in range(2009,2020):\n",
    "\tindex.append(i)\n",
    "col = ['str（煤炭）', 'str（石油）', 'str（天然气）', 'eff', 'gro', 'D1', 'D2', 'D3', 'D']\n",
    "df = DataFrame(data=datas,columns=index,index=col).T"
   ]
  },
  {
   "cell_type": "code",
   "execution_count": 5,
   "id": "242ce300",
   "metadata": {},
   "outputs": [],
   "source": [
    "#十年的中间数据\n",
    "D0 = df.loc[2009,'D']\n",
    "ln_D0 = math.log(float(df.loc[2009,'D']))\n",
    "res_2_list = []\n",
    "R_lis = []\n",
    "for num in df['D']: \n",
    "    if float(num) == D0:\n",
    "        continue\n",
    "    ln_Dt = math.log(float(num))\n",
    "    res_2 = (ln_Dt - ln_D0) / (float(num) - D0)\n",
    "    res_2_list.append(res_2)\n",
    "    R = float(num) / D0\n",
    "    R_lis.append(R)"
   ]
  },
  {
   "cell_type": "code",
   "execution_count": 6,
   "id": "b32ac94a",
   "metadata": {},
   "outputs": [],
   "source": [
    "#不同能源类型的数据1\n",
    "energy_types = ['D1','D2','D3']\n",
    "res_1_list = []\n",
    "for i in energy_types:\n",
    "    D0i =  df.loc[2009,i]\n",
    "    ln_D0i = math.log(float(df.loc[2009,i]))\n",
    "    res_list = []\n",
    "    for num in df[i]:\n",
    "        if float(num) == D0i:\n",
    "            continue\n",
    "        ln_Dti = math.log(float(num))\n",
    "        res = (float(num) - D0i) / (ln_Dti - ln_D0i) \n",
    "        res_list.append(res)\n",
    "    res_1_list.append(res_list)"
   ]
  },
  {
   "cell_type": "code",
   "execution_count": 7,
   "id": "ad09b2e8",
   "metadata": {},
   "outputs": [],
   "source": [
    "#不同分解的十年数据，共有20个\n",
    "two_types = ['eff','gro']\n",
    "res_3_lis = []\n",
    "for i in energy_types:\n",
    "    energy_0 = df.loc[2009,i]\n",
    "    en_res_list = []\n",
    "    for num in df[i]:\n",
    "        if float(num) == energy_0:\n",
    "            continue\n",
    "        energy_res = math.log(float(num) / energy_0)\n",
    "        en_res_list.append(energy_res)\n",
    "    res_3_lis.append(en_res_list)"
   ]
  },
  {
   "cell_type": "code",
   "execution_count": 8,
   "id": "84c698f7",
   "metadata": {},
   "outputs": [],
   "source": [
    "str_types = ['str（煤炭）','str（石油）','str（天然气）']\n",
    "res_str_list = []\n",
    "for i in str_types:\n",
    "    str0 =  df.loc[2009,i]\n",
    "    res_list = []\n",
    "    for num in df[i]:\n",
    "        if float(num) == str0:\n",
    "            continue\n",
    "        res = math.log(float(num) / str0)\n",
    "        res_list.append(res)\n",
    "    res_str_list.append(res_list)"
   ]
  },
  {
   "cell_type": "code",
   "execution_count": 9,
   "id": "120485a2",
   "metadata": {},
   "outputs": [],
   "source": [
    "#eff,gro\n",
    "del index[0]\n",
    "df_1 = DataFrame(res_1_list,columns=index,index=energy_types)\n",
    "sum_types_lis = []\n",
    "for i in index:\n",
    "    sum_types = df_1[i].sum()\n",
    "    sum_types_lis.append(sum_types)"
   ]
  },
  {
   "cell_type": "code",
   "execution_count": 10,
   "id": "e65abef3",
   "metadata": {},
   "outputs": [],
   "source": [
    "R_eff_lis = []\n",
    "R_gro_lis = []\n",
    "for i in range(10):\n",
    "    R_eff = math.exp(sum_types_lis[i] * res_2_list[i] * res_3_lis[0][i])\n",
    "    R_eff_lis.append(R_eff)\n",
    "    R_gro = math.exp(sum_types_lis[i] * res_2_list[i] * res_3_lis[1][i])\n",
    "    R_gro_lis.append(R_gro)"
   ]
  },
  {
   "cell_type": "code",
   "execution_count": 11,
   "id": "ce18ff1a",
   "metadata": {},
   "outputs": [],
   "source": [
    "#str\n",
    "df_2 = DataFrame(data=res_str_list,columns=index,index=energy_types)\n",
    "dff = DataFrame.mul(df_1,df_2) #两个相同index的表格可以进行运算，对应位置相乘--DataFrame.mul(a,b)\n",
    "sum_str_lis = []\n",
    "for i in index:\n",
    "    sum_types = dff[i].sum()\n",
    "    sum_str_lis.append(sum_types)\n",
    "R_str_lis = []\n",
    "for i in range(10):\n",
    "    R_str = math.exp(sum_str_lis[i] * res_2_list[i])\n",
    "    R_str_lis.append(R_str)"
   ]
  },
  {
   "cell_type": "code",
   "execution_count": 12,
   "id": "627b0b4d",
   "metadata": {},
   "outputs": [
    {
     "data": {
      "image/png": "[encoded data removed]",
      "text/plain": [
       "<Figure size 432x288 with 1 Axes>"
      ]
     },
     "metadata": {
      "needs_background": "light"
     },
     "output_type": "display_data"
    }
   ],
   "source": [
    "R_all = [R_eff_lis,R_gro_lis,R_str_lis,R_lis]\n",
    "df_R = DataFrame(data=R_all,columns=index,index=['eff','gro','str','R'])\n",
    "df_R = df_R.T\n",
    "df_R.plot()\n",
    "plt.title('Proportion of factors influencing carbon dioxide emissions')\n",
    "plt.xlabel('Year')\n",
    "plt.ylabel('proportion')\n",
    "plt.show()"
   ]
  },
  {
   "cell_type": "code",
   "execution_count": 14,
   "id": "97028fa2",
   "metadata": {},
   "outputs": [
    {
     "data": {
      "text/html": [
       "<div>\n",
       "<style scoped>\n",
       "    .dataframe tbody tr th:only-of-type {\n",
       "        vertical-align: middle;\n",
       "    }\n",
       "\n",
       "    .dataframe tbody tr th {\n",
       "        vertical-align: top;\n",
       "    }\n",
       "\n",
       "    .dataframe thead th {\n",
       "        text-align: right;\n",
       "    }\n",
       "</style>\n",
       "<table border=\"1\" class=\"dataframe\">\n",
       "  <thead>\n",
       "    <tr style=\"text-align: right;\">\n",
       "      <th></th>\n",
       "      <th>str（煤炭）</th>\n",
       "      <th>str（石油）</th>\n",
       "      <th>str（天然气）</th>\n",
       "      <th>eff</th>\n",
       "      <th>gro</th>\n",
       "      <th>D1</th>\n",
       "      <th>D2</th>\n",
       "      <th>D3</th>\n",
       "      <th>D</th>\n",
       "    </tr>\n",
       "  </thead>\n",
       "  <tbody>\n",
       "    <tr>\n",
       "      <th>2009</th>\n",
       "      <td>0.716</td>\n",
       "      <td>0.164</td>\n",
       "      <td>0.035</td>\n",
       "      <td>0.964445</td>\n",
       "      <td>2.611598</td>\n",
       "      <td>1.348236</td>\n",
       "      <td>0.240615</td>\n",
       "      <td>0.039097</td>\n",
       "      <td>1.627948</td>\n",
       "    </tr>\n",
       "    <tr>\n",
       "      <th>2010</th>\n",
       "      <td>0.692</td>\n",
       "      <td>0.174</td>\n",
       "      <td>0.040</td>\n",
       "      <td>0.875106</td>\n",
       "      <td>3.073430</td>\n",
       "      <td>1.391423</td>\n",
       "      <td>0.272602</td>\n",
       "      <td>0.047713</td>\n",
       "      <td>1.711738</td>\n",
       "    </tr>\n",
       "    <tr>\n",
       "      <th>2011</th>\n",
       "      <td>0.702</td>\n",
       "      <td>0.168</td>\n",
       "      <td>0.046</td>\n",
       "      <td>0.793218</td>\n",
       "      <td>3.621481</td>\n",
       "      <td>1.507597</td>\n",
       "      <td>0.281115</td>\n",
       "      <td>0.058604</td>\n",
       "      <td>1.847316</td>\n",
       "    </tr>\n",
       "    <tr>\n",
       "      <th>2012</th>\n",
       "      <td>0.685</td>\n",
       "      <td>0.170</td>\n",
       "      <td>0.048</td>\n",
       "      <td>0.746663</td>\n",
       "      <td>3.977578</td>\n",
       "      <td>1.520910</td>\n",
       "      <td>0.294096</td>\n",
       "      <td>0.063223</td>\n",
       "      <td>1.878229</td>\n",
       "    </tr>\n",
       "    <tr>\n",
       "      <th>2013</th>\n",
       "      <td>0.674</td>\n",
       "      <td>0.171</td>\n",
       "      <td>0.053</td>\n",
       "      <td>0.703101</td>\n",
       "      <td>4.357717</td>\n",
       "      <td>1.543853</td>\n",
       "      <td>0.305189</td>\n",
       "      <td>0.072019</td>\n",
       "      <td>1.921060</td>\n",
       "    </tr>\n",
       "    <tr>\n",
       "      <th>2014</th>\n",
       "      <td>0.656</td>\n",
       "      <td>0.174</td>\n",
       "      <td>0.057</td>\n",
       "      <td>0.661638</td>\n",
       "      <td>4.705028</td>\n",
       "      <td>1.526708</td>\n",
       "      <td>0.315521</td>\n",
       "      <td>0.078696</td>\n",
       "      <td>1.920924</td>\n",
       "    </tr>\n",
       "    <tr>\n",
       "      <th>2015</th>\n",
       "      <td>0.637</td>\n",
       "      <td>0.183</td>\n",
       "      <td>0.059</td>\n",
       "      <td>0.624083</td>\n",
       "      <td>5.011263</td>\n",
       "      <td>1.489356</td>\n",
       "      <td>0.333378</td>\n",
       "      <td>0.081834</td>\n",
       "      <td>1.904568</td>\n",
       "    </tr>\n",
       "    <tr>\n",
       "      <th>2016</th>\n",
       "      <td>0.620</td>\n",
       "      <td>0.185</td>\n",
       "      <td>0.062</td>\n",
       "      <td>0.583899</td>\n",
       "      <td>5.398060</td>\n",
       "      <td>1.460952</td>\n",
       "      <td>0.339659</td>\n",
       "      <td>0.086668</td>\n",
       "      <td>1.887279</td>\n",
       "    </tr>\n",
       "    <tr>\n",
       "      <th>2017</th>\n",
       "      <td>0.604</td>\n",
       "      <td>0.188</td>\n",
       "      <td>0.070</td>\n",
       "      <td>0.539074</td>\n",
       "      <td>5.985525</td>\n",
       "      <td>1.456991</td>\n",
       "      <td>0.353350</td>\n",
       "      <td>0.100171</td>\n",
       "      <td>1.910512</td>\n",
       "    </tr>\n",
       "    <tr>\n",
       "      <th>2018</th>\n",
       "      <td>0.590</td>\n",
       "      <td>0.189</td>\n",
       "      <td>0.078</td>\n",
       "      <td>0.504742</td>\n",
       "      <td>6.588034</td>\n",
       "      <td>1.466719</td>\n",
       "      <td>0.366086</td>\n",
       "      <td>0.115031</td>\n",
       "      <td>1.947835</td>\n",
       "    </tr>\n",
       "    <tr>\n",
       "      <th>2019</th>\n",
       "      <td>0.577</td>\n",
       "      <td>0.189</td>\n",
       "      <td>0.081</td>\n",
       "      <td>0.491490</td>\n",
       "      <td>7.077355</td>\n",
       "      <td>1.500481</td>\n",
       "      <td>0.382951</td>\n",
       "      <td>0.124958</td>\n",
       "      <td>2.008390</td>\n",
       "    </tr>\n",
       "  </tbody>\n",
       "</table>\n",
       "</div>"
      ],
      "text/plain": [
       "      str（煤炭）  str（石油）  str（天然气）       eff       gro        D1        D2  \\\n",
       "2009    0.716    0.164     0.035  0.964445  2.611598  1.348236  0.240615   \n",
       "2010    0.692    0.174     0.040  0.875106  3.073430  1.391423  0.272602   \n",
       "2011    0.702    0.168     0.046  0.793218  3.621481  1.507597  0.281115   \n",
       "2012    0.685    0.170     0.048  0.746663  3.977578  1.520910  0.294096   \n",
       "2013    0.674    0.171     0.053  0.703101  4.357717  1.543853  0.305189   \n",
       "2014    0.656    0.174     0.057  0.661638  4.705028  1.526708  0.315521   \n",
       "2015    0.637    0.183     0.059  0.624083  5.011263  1.489356  0.333378   \n",
       "2016    0.620    0.185     0.062  0.583899  5.398060  1.460952  0.339659   \n",
       "2017    0.604    0.188     0.070  0.539074  5.985525  1.456991  0.353350   \n",
       "2018    0.590    0.189     0.078  0.504742  6.588034  1.466719  0.366086   \n",
       "2019    0.577    0.189     0.081  0.491490  7.077355  1.500481  0.382951   \n",
       "\n",
       "            D3         D  \n",
       "2009  0.039097  1.627948  \n",
       "2010  0.047713  1.711738  \n",
       "2011  0.058604  1.847316  \n",
       "2012  0.063223  1.878229  \n",
       "2013  0.072019  1.921060  \n",
       "2014  0.078696  1.920924  \n",
       "2015  0.081834  1.904568  \n",
       "2016  0.086668  1.887279  \n",
       "2017  0.100171  1.910512  \n",
       "2018  0.115031  1.947835  \n",
       "2019  0.124958  2.008390  "
      ]
     },
     "execution_count": 14,
     "metadata": {},
     "output_type": "execute_result"
    }
   ],
   "source": [
    "df"
   ]
  },
  {
   "cell_type": "code",
   "execution_count": 15,
   "id": "9820a13d",
   "metadata": {},
   "outputs": [
    {
     "name": "stderr",
     "output_type": "stream",
     "text": [
      "No artists with labels found to put in legend.  Note that artists whose label start with an underscore are ignored when legend() is called with no argument.\n"
     ]
    },
    {
     "data": {
      "image/png": "[encoded data removed]",
      "text/plain": [
       "<Figure size 432x288 with 1 Axes>"
      ]
     },
     "metadata": {
      "needs_background": "light"
     },
     "output_type": "display_data"
    }
   ],
   "source": [
    "def plot(X):\n",
    "    plt.plot(X)\n",
    "    plt.title('Proportion of factors influencing carbon dioxide emissions')\n",
    "    plt.xlabel('Year')\n",
    "    plt.ylabel('proportion')\n",
    "    plt.legend()\n",
    "    plt.show()\n",
    "plot(df_R)"
   ]
  },
  {
   "cell_type": "code",
   "execution_count": null,
   "id": "18ef51f8",
   "metadata": {},
   "outputs": [],
   "source": []
  }
 ],
 "metadata": {
  "kernelspec": {
   "display_name": "Python 3 (ipykernel)",
   "language": "python",
   "name": "python3"
  },
  "language_info": {
   "codemirror_mode": {
    "name": "ipython",
    "version": 3
   },
   "file_extension": ".py",
   "mimetype": "text/x-python",
   "name": "python",
   "nbconvert_exporter": "python",
   "pygments_lexer": "ipython3",
   "version": "3.9.12"
  }
 },
 "nbformat": 4,
 "nbformat_minor": 5
}
